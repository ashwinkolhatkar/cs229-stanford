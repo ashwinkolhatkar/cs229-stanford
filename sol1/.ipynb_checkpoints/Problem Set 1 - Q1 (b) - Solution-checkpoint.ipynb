{
 "cells": [
  {
   "cell_type": "markdown",
   "metadata": {},
   "source": [
    "## Logistic Regression Implementation: CS229 Problem Set 1\n",
    "\n",
    "(b) [10 points] We have provided two data files:\n",
    "- http://cs229.stanford.edu/ps/ps1/logistic_x.txt\n",
    "- http://cs229.stanford.edu/ps/ps1/logistic_y.txt\n",
    "\n",
    "These files contain the inputs (x (i) ∈ R 2 ) and outputs (y (i) ∈ {−1, 1}), respectively for a\n",
    "binary classification problem, with one training example per row. Implement 2 Newton’s\n",
    "method for optimizing J(θ), and apply it to fit a logistic regression model to the data.\n",
    "Initialize Newton’s method with θ = ~ 0 (the vector of all zeros). What are the coefficients θ\n",
    "resulting from your fit? (Remember to include the intercept term.)"
   ]
  },
  {
   "cell_type": "code",
   "execution_count": 9,
   "metadata": {},
   "outputs": [],
   "source": [
    "import numpy as np\n",
    "import pandas as pd\n",
    "from matplotlib import pyplot as plt"
   ]
  },
  {
   "cell_type": "markdown",
   "metadata": {},
   "source": [
    "## Step 1: Creating a scatter plot\n",
    "In this step, we will create a scatter plot of our data points just for some insight into the data."
   ]
  },
  {
   "cell_type": "code",
   "execution_count": 10,
   "metadata": {},
   "outputs": [],
   "source": [
    "\n",
    "df_X = pd.read_csv('http://cs229.stanford.edu/ps/ps1/logistic_x.txt', sep='\\ +', header=None, engine='python')\n",
    "#df_X is data from X --> it has two features thus it is a two-dimensional vector in output space of our model\n",
    "ys = pd.read_csv('http://cs229.stanford.edu/ps/ps1/logistic_y.txt', sep='\\ +', header=None, engine='python')\n",
    "# ys is also a pandas DataFrame object and is one-dimensional vector in output space of our model\n",
    "ys = ys.astype(int) #we are converting ys to int list"
   ]
  },
  {
   "cell_type": "code",
   "execution_count": 11,
   "metadata": {},
   "outputs": [],
   "source": [
    "df_X['label'] = ys[0].values \n",
    "#we have added a new column to the X-data frame and given it the y-values"
   ]
  },
  {
   "cell_type": "code",
   "execution_count": 12,
   "metadata": {
    "scrolled": true
   },
   "outputs": [
    {
     "data": {
      "text/plain": [
       "<matplotlib.axes._subplots.AxesSubplot at 0x7f546caffa20>"
      ]
     },
     "execution_count": 12,
     "metadata": {},
     "output_type": "execute_result"
    },
    {
     "data": {
      "image/png": "[encoded data removed]",
      "text/plain": [
       "<Figure size 432x288 with 1 Axes>"
      ]
     },
     "metadata": {},
     "output_type": "display_data"
    }
   ],
   "source": [
    "ax = plt.axes()\n",
    "\n",
    "df_X.query('label == -1').plot.scatter(x=0, y=1, ax=ax, color='blue')\n",
    "df_X.query('label == 1').plot.scatter(x=0, y=1, ax=ax, color='red')"
   ]
  },
  {
   "cell_type": "markdown",
   "metadata": {},
   "source": [
    "The above plot, shows the 2-dimensional input space X for which the corresponding two discrete outputs y, are represented in the colors red and blue. Here, red is for y= 1 and blue for y = -1.\n",
    "We can see that there is a clear pattern in our data. Let's now see if our model can find the pattern."
   ]
  },
  {
   "cell_type": "markdown",
   "metadata": {},
   "source": [
    "# Step 2: Fitting our data using the logistic function\n",
    "According to the question, we must use Newton's method to minimise the cost function, i.e. to increase the likelihood of all our data. Maxima of $l(\\theta)$ will give us the maximum likelihood which will help us increase the probability of random variables of our data approaching all the data points that have been provided to us.\n",
    "thus $l'(\\theta) = 0$\n",
    "\n",
    "Another way to look at it (which is a simpler) is that we want to minimize our cost function Again, we can use newton's method. Since x has two features, we will use the Newton-Raphson method to find the $\\theta$ at which $J'(\\theta) = 0$\n",
    "\n",
    "\n",
    "Newton's method addresses getting to $f(\\theta) = 0$, and minimizing $J(\\theta)$ means getting $\\frac{\\partial J}{\\partial \\theta}$ to 0. There after applying Newton's method, extending it to multidimensional setting (Newton-Raphson method), the update rule becomes:\n",
    "$$ \\theta :=  \\theta - H^{-1} \\nabla_{\\theta} J(\\theta)$$\n",
    "\n",
    "$H$ is the Hessian Matrix.\n"
   ]
  },
  {
   "cell_type": "code",
   "execution_count": 13,
   "metadata": {},
   "outputs": [
    {
     "name": "stdout",
     "output_type": "stream",
     "text": [
      "(99, 2)\n"
     ]
    }
   ],
   "source": [
    "Xs = df_X[[0, 1]].values # we have now prepared an nd array(numpy) using the values function for dataframes\n",
    "print(Xs.shape) #tells order of the matrix"
   ]
  },
  {
   "cell_type": "code",
   "execution_count": 14,
   "metadata": {
    "collapsed": true
   },
   "outputs": [
    {
     "name": "stdout",
     "output_type": "stream",
     "text": [
      "[[ 1.          1.3432504  -1.3311479 ]\n",
      " [ 1.          1.8205529  -0.6346681 ]\n",
      " [ 1.          0.98632067 -1.8885762 ]\n",
      " [ 1.          1.9443734  -1.635452  ]\n",
      " [ 1.          0.97673352 -1.3533151 ]\n",
      " [ 1.          1.9458584  -2.0443278 ]\n",
      " [ 1.          2.1075153  -2.1256684 ]\n",
      " [ 1.          2.070373   -2.4634101 ]\n",
      " [ 1.          0.86864964 -2.4119348 ]\n",
      " [ 1.          1.8006594  -2.7739689 ]\n",
      " [ 1.          3.1283787  -3.4452432 ]\n",
      " [ 1.          3.0947429  -3.6446145 ]\n",
      " [ 1.          2.9086652  -4.0065037 ]\n",
      " [ 1.          2.6770338  -3.0198592 ]\n",
      " [ 1.          2.7458671  -2.7100561 ]\n",
      " [ 1.          4.1714647  -3.4622482 ]\n",
      " [ 1.          3.931322   -2.1099044 ]\n",
      " [ 1.          4.378687   -2.3804743 ]\n",
      " [ 1.          4.8016565  -3.3803344 ]\n",
      " [ 1.          4.166105   -2.8138844 ]\n",
      " [ 1.          2.4670141  -1.6108444 ]\n",
      " [ 1.          3.4826743  -1.5533872 ]\n",
      " [ 1.          3.3652482  -1.8164936 ]\n",
      " [ 1.          2.8772788  -1.8511689 ]\n",
      " [ 1.          3.1090444  -1.6384946 ]\n",
      " [ 1.          2.2183701   0.07427956]\n",
      " [ 1.          1.9949873   0.16268659]\n",
      " [ 1.          2.9500308   0.01687302]\n",
      " [ 1.          2.0216009   0.17227387]\n",
      " [ 1.          2.0486921  -0.63581041]\n",
      " [ 1.          0.87548563 -0.54586168]\n",
      " [ 1.          0.57079941 -0.03327866]\n",
      " [ 1.          1.4266468  -0.75288337]\n",
      " [ 1.          0.72265633 -0.8669193 ]\n",
      " [ 1.          0.95346198 -1.4896956 ]\n",
      " [ 1.          4.8333333   0.07017544]\n",
      " [ 1.          4.3070175   1.4152047 ]\n",
      " [ 1.          6.0321637   0.4502924 ]\n",
      " [ 1.          5.4181287  -2.7076023 ]\n",
      " [ 1.          3.4590643  -2.8245614 ]\n",
      " [ 1.          2.7280702  -0.92397661]\n",
      " [ 1.          1.002924    0.77192982]\n",
      " [ 1.          3.6637427  -0.77777778]\n",
      " [ 1.          4.3070175  -1.0409357 ]\n",
      " [ 1.          3.6929825  -0.10526316]\n",
      " [ 1.          5.7397661  -1.625731  ]\n",
      " [ 1.          4.9795322  -1.5087719 ]\n",
      " [ 1.          6.5        -2.9122807 ]\n",
      " [ 1.          5.2426901   0.91812865]\n",
      " [ 1.          1.6754386   0.56725146]\n",
      " [ 1.          5.1708997   1.2103667 ]\n",
      " [ 1.          4.8795188   1.6081848 ]\n",
      " [ 1.          4.664987    1.0695532 ]\n",
      " [ 1.          4.4934321   1.2351592 ]\n",
      " [ 1.          4.1512967   0.8672126 ]\n",
      " [ 1.          3.717708    1.15172   ]\n",
      " [ 1.          3.6224477   1.3106769 ]\n",
      " [ 1.          3.0606943   1.4857163 ]\n",
      " [ 1.          7.0718465  -0.34961651]\n",
      " [ 1.          6.0391832  -0.24756832]\n",
      " [ 1.          6.674748   -0.12484766]\n",
      " [ 1.          6.8461291   0.25977167]\n",
      " [ 1.          6.4270724  -0.14713863]\n",
      " [ 1.          6.8456065   1.4754967 ]\n",
      " [ 1.          7.7054006   1.6045555 ]\n",
      " [ 1.          6.2870658   2.4156427 ]\n",
      " [ 1.          6.9810956   1.2599865 ]\n",
      " [ 1.          7.0990172   2.2155151 ]\n",
      " [ 1.          5.5275479   0.29968421]\n",
      " [ 1.          5.8303489  -0.21974408]\n",
      " [ 1.          6.3594527   0.23944217]\n",
      " [ 1.          6.1004524  -0.04095741]\n",
      " [ 1.          5.6237412   0.37135914]\n",
      " [ 1.          5.8836969   2.7768186 ]\n",
      " [ 1.          5.5781611   3.0682889 ]\n",
      " [ 1.          7.0050662  -0.25781727]\n",
      " [ 1.          4.4538114   0.83941831]\n",
      " [ 1.          5.6495924   1.3053929 ]\n",
      " [ 1.          4.6337489   1.9467546 ]\n",
      " [ 1.          3.6986847   2.2594084 ]\n",
      " [ 1.          4.1193005   2.547451  ]\n",
      " [ 1.          4.7665558   2.7531209 ]\n",
      " [ 1.          3.0812098   2.7985255 ]\n",
      " [ 1.          4.0730994  -3.0292398 ]\n",
      " [ 1.          3.4883041  -1.8888889 ]\n",
      " [ 1.          0.76900585  1.2105263 ]\n",
      " [ 1.          1.5         3.8128655 ]\n",
      " [ 1.          5.7982456  -2.0935673 ]\n",
      " [ 1.          6.8114529  -0.8345673 ]\n",
      " [ 1.          7.1106096  -1.0201158 ]\n",
      " [ 1.          7.494152   -1.7426901 ]\n",
      " [ 1.          3.1374269   0.42105263]\n",
      " [ 1.          1.6754386   0.50877193]\n",
      " [ 1.          2.494152   -0.86549708]\n",
      " [ 1.          4.7748538   0.09941521]\n",
      " [ 1.          5.8274854  -0.69005848]\n",
      " [ 1.          2.2894737   1.9707602 ]\n",
      " [ 1.          2.494152    1.4152047 ]\n",
      " [ 1.          2.0847953   1.3567251 ]]\n",
      "(99, 3)\n"
     ]
    }
   ],
   "source": [
    "# adding a columns of ones for the intercept terms, and also use column vectors\n",
    "\n",
    "Xs = np.hstack([np.ones((Xs.shape[0], 1)), Xs])\n",
    "print(Xs)\n",
    "print(Xs.shape)\n",
    "\n",
    "#hstack function is for horizontal stacking of an array on another\n",
    "#we are adding a column of ones to Xs\n",
    "Ys = df_X['label'].values #ys is now an ndarray of Y values of training data"
   ]
  },
  {
   "cell_type": "markdown",
   "metadata": {},
   "source": [
    "Now that we have neatly formatted our arrays, let's calculate the Hessian Matrix.\n",
    "Thus,\n",
    "\n",
    "Copied equations from problem 1(a):\n",
    "\n",
    "$$z^{(k)} = y^{(k)} \\theta^T x^{(k)}$$$$g(z^{(k)}) = \\frac{1}{1 + e^{-z^{(k)}}}$$$$ \\frac{\\partial J}{\\partial \\theta_i} = \\frac{1}{m} \\sum_{k=1}^{m} (g(z^{(k)}) - 1) y^{(k)} x_i^{(k)} $$$$ H_{ij} = \\frac{1}{m} \\sum_{k=1}^{m} g(z^{(k)})(1 - g(z^{(k)})) x_i^{(k)} x_j^{(k)} $$\n"
   ]
  },
  {
   "cell_type": "code",
   "execution_count": null,
   "metadata": {},
   "outputs": [],
   "source": []
  }
 ],
 "metadata": {
  "kernelspec": {
   "display_name": "Python 3",
   "language": "python",
   "name": "python3"
  },
  "language_info": {
   "codemirror_mode": {
    "name": "ipython",
    "version": 3
   },
   "file_extension": ".py",
   "mimetype": "text/x-python",
   "name": "python",
   "nbconvert_exporter": "python",
   "pygments_lexer": "ipython3",
   "version": "3.6.5"
  }
 },
 "nbformat": 4,
 "nbformat_minor": 2
}
