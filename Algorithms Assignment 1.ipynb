{
 "cells": [
  {
   "cell_type": "markdown",
   "metadata": {},
   "source": [
    "# Binary Search Algorithm Time Graph"
   ]
  },
  {
   "cell_type": "code",
   "execution_count": 11,
   "metadata": {},
   "outputs": [
    {
     "data": {
      "image/png": "[encoded data removed]",
      "text/plain": [
       "<Figure size 432x288 with 1 Axes>"
      ]
     },
     "metadata": {},
     "output_type": "display_data"
    }
   ],
   "source": [
    "# Python Program for recursive binary search.\n",
    "import time\n",
    "import random\n",
    "import matplotlib.pyplot as plt\n",
    "\n",
    "%matplotlib inline\n",
    "\n",
    "# Returns index of x in arr if present, else -1\n",
    "\n",
    "MAX_N = 10000\n",
    "def binarySearch (arr, l, r, x):\n",
    " \n",
    "    # Check base case\n",
    "    if r >= l:\n",
    " \n",
    "        mid = int(l + (r - l)/2)\n",
    " \n",
    "        # If element is present at the middle itself\n",
    "        if arr[mid] == x:\n",
    "            return mid\n",
    "         \n",
    "        # If element is smaller than mid, then it \n",
    "        # can only be present in left subarray\n",
    "        elif arr[mid] > x:\n",
    "            return binarySearch(arr, l, mid-1, x)\n",
    " \n",
    "        # Else the element can only be present \n",
    "        # in right subarray\n",
    "        else:\n",
    "            return binarySearch(arr, mid+1, r,x )#last parameter is key.\n",
    " \n",
    "    else:\n",
    "        # Element is not present in the array\n",
    "        return -1\n",
    " \n",
    "# Test array\n",
    "# Python code to generate\n",
    "# random numbers and\n",
    "# append them to a list\n",
    "import random\n",
    " \n",
    "# Function to generate\n",
    "# and append them \n",
    "# start = starting range,\n",
    "# end = ending range\n",
    "# num = number of \n",
    "# elements needs to be appended\n",
    "def Rand(start, end, num):\n",
    "    res = []\n",
    " \n",
    "    for j in range(num):\n",
    "        res.append(random.randint(start, end))\n",
    "        \n",
    "    res.sort()\n",
    " \n",
    "    return res\n",
    "    \n",
    "total_time = []\n",
    "#print(Rand(start, end, num))\n",
    "\n",
    "for n in range(0, MAX_N):\n",
    "        arr = Rand(0, 100, n)\n",
    "        # Function call\n",
    "        start_time = time.clock()\n",
    "        result = binarySearch(arr, 0, len(arr)-1, 8000)\n",
    "        t = time.clock() - start_time\n",
    "        #print( t)\n",
    "        total_time.append(t) \n",
    " \n",
    "\n",
    "#plotting the graph of the algorithm\n",
    "# x axis values\n",
    "x = range(0,MAX_N)\n",
    "# corresponding y axis values\n",
    "y = total_time\n",
    "  \n",
    "    \n",
    "# plotting the points \n",
    "plt.plot(x, y)\n",
    " \n",
    "# naming the x axis\n",
    "plt.xlabel('n')\n",
    "# naming the y axis\n",
    "plt.ylabel('Time')\n",
    " \n",
    "# giving a title to my graph\n",
    "plt.title('Time Graph for binarySearch')\n",
    " \n",
    "# function to show the plot\n",
    "plt.show()\n",
    "\n"
   ]
  }
 ],
 "metadata": {
  "kernelspec": {
   "display_name": "Python 3",
   "language": "python",
   "name": "python3"
  },
  "language_info": {
   "codemirror_mode": {
    "name": "ipython",
    "version": 3
   },
   "file_extension": ".py",
   "mimetype": "text/x-python",
   "name": "python",
   "nbconvert_exporter": "python",
   "pygments_lexer": "ipython3",
   "version": "3.6.5"
  }
 },
 "nbformat": 4,
 "nbformat_minor": 2
}
